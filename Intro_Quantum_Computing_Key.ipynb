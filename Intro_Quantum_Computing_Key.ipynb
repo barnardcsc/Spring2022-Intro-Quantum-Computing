{
  "nbformat": 4,
  "nbformat_minor": 0,
  "metadata": {
    "colab": {
      "name": "Intro Quantum Computing Key.ipynb",
      "provenance": [],
      "collapsed_sections": []
    },
    "kernelspec": {
      "name": "python3",
      "display_name": "Python 3"
    },
    "language_info": {
      "name": "python"
    }
  },
  "cells": [
    {
      "cell_type": "markdown",
      "source": [
        "# **Intro to Quantum Computing**\n",
        "\n",
        "Welcome to the Vagelos Computational Science Center's Intro to Quantum Computing workshop! Today we'll be using Qiskit, IBM's quantum simulation software development kit. Qiskit is compatible with Python, so we'll also cover a few basics of Python along the way. Qiskit has pretty extensive documentation, helpful tutorials, and a textbook. We'll introduce a some basics concepts here, and if you're interested in learning more after this workshop I highly recommend you check out some of their materials [here](https://qiskit.org/textbook/ch-states/introduction.html).\n",
        "\n",
        "\n",
        "Today we'll:\n",
        "\n",
        "1.   Cover the basics of Qiskit\n",
        "2.   Explore basic quantum circuits with one and two qubits\n",
        "\n"
      ],
      "metadata": {
        "id": "iZQxHmSUFixP"
      }
    },
    {
      "cell_type": "markdown",
      "source": [
        "\n",
        "\n",
        "---\n",
        "\n",
        "\n",
        "## Getting set up\n",
        "\n",
        "#### *Make an IBMQ account*\n",
        "First, let's visit [IBM's website](https://quantum-computing.ibm.com/) to set up an account. IBM allows users to send jobs to some of their machines, but you'll need to set up an account. (You can skip this step if you want to use the quantum computer simulator only.)\n",
        "\n",
        "#### *Install Qiskit*\n",
        "Google Colab allows us to run Python programs without installing Python onto your machine.  But before we get started, we need to install and import Qiskit, the software development kit we'll be using today to run our quantum simulator and interface with an IBM quantum computer.\n",
        "\n",
        "We can usually install software packages using the command `pip install` in the command line. In Google Colab (or Jupyter notebook), we let Colab know that we're running a command line script (as opposed to a Python cell) by writing `!` before the line.\n",
        "\n",
        "Run the following line of code to install Qiskit: `!pip install qiskit`"
      ],
      "metadata": {
        "id": "NhHO5nKvLBGI"
      }
    },
    {
      "cell_type": "code",
      "execution_count": null,
      "metadata": {
        "id": "ZUNDTJOFE36w"
      },
      "outputs": [],
      "source": [
        "# install Qiskit\n",
        "!pip install qiskit"
      ]
    },
    {
      "cell_type": "markdown",
      "source": [
        "Before we get started with Qiskit and quantum circuits, let's cover a few basics of Python that we'll be working with today.\n",
        "\n",
        "In Python, we can assign a variable using the `=` symbol."
      ],
      "metadata": {
        "id": "Likn4Ss7MhPF"
      }
    },
    {
      "cell_type": "code",
      "source": [
        "# assign a variable to a number\n",
        "a = 1\n",
        "print(a)"
      ],
      "metadata": {
        "colab": {
          "base_uri": "https://localhost:8080/"
        },
        "id": "slODp0hmOp31",
        "outputId": "2b956f4f-a7db-4b32-c8e8-3fb32d5d8a1f"
      },
      "execution_count": null,
      "outputs": [
        {
          "output_type": "stream",
          "name": "stdout",
          "text": [
            "1\n"
          ]
        }
      ]
    },
    {
      "cell_type": "markdown",
      "source": [
        "We also work with different types (or \"classes\") of objects or data."
      ],
      "metadata": {
        "id": "wvimXt6KOw4f"
      }
    },
    {
      "cell_type": "code",
      "source": [
        "# create two variables of different types\n",
        "a_string = \"Hello world!\"\n",
        "an_integer = 2\n",
        "\n",
        "print(type(a_string))\n",
        "print(type(an_integer))"
      ],
      "metadata": {
        "colab": {
          "base_uri": "https://localhost:8080/"
        },
        "id": "5s9k95JoOvwo",
        "outputId": "525de248-bd98-4418-909a-65a73695338c"
      },
      "execution_count": null,
      "outputs": [
        {
          "output_type": "stream",
          "name": "stdout",
          "text": [
            "<class 'str'>\n",
            "<class 'int'>\n"
          ]
        }
      ]
    },
    {
      "cell_type": "markdown",
      "source": [
        "We can pass arguments (objects or their variables) to functions.  In our example above, `print()` is a function with `type(a_string)` as the argument. [`type()` is also a function, with `a_string` being its argument!]\n",
        "\n",
        "In Qiskit, we'll be working with some (slightly less intuitive) functions—don't worry if you don't understand exactly what the function is doing.  The most important thing is to know: when to use a function and what arguments that function needs.\n",
        "\n",
        "\n",
        "\n",
        "---\n",
        "\n",
        "\n",
        "## Working with Qiskit\n",
        "\n",
        "Now that we're a little more warmed up with Python, let's start working with Qiskit. We've installed Qiskit, but now we need to import Qiskit so we can access its functions."
      ],
      "metadata": {
        "id": "FcG-ALVKPBSb"
      }
    },
    {
      "cell_type": "code",
      "source": [
        "# import Qiskit\n",
        "import qiskit\n",
        "# OR\n",
        "from qiskit import *"
      ],
      "metadata": {
        "id": "uYN8ZxLfM8pN"
      },
      "execution_count": null,
      "outputs": []
    },
    {
      "cell_type": "markdown",
      "source": [
        "#### *One-qubit circuit*\n",
        "\n",
        "Let's start by creating a one-qubit circuit.  Our basic workflow in Qiskit will look something like:\n",
        "\n",
        "1.   Define quantum and classical registers\n",
        "2.   Create a circuit and add gates\n",
        "3.   Define a `backend` and `execute` the circuit\n",
        "4.   Read out results\n",
        "\n",
        "For our one-qubit circuit, we can go ahead and define our registers."
      ],
      "metadata": {
        "id": "n0wsAgzJgt2S"
      }
    },
    {
      "cell_type": "code",
      "source": [
        "# one qubit quantum circuit\n",
        "\n",
        "# define quantum and classical registers\n",
        "one_qubit = QuantumRegister(1)\n",
        "one_bit = ClassicalRegister(1) #for a one-qubit circuit, we need one bit"
      ],
      "metadata": {
        "id": "NWK74kFQITke"
      },
      "execution_count": null,
      "outputs": []
    },
    {
      "cell_type": "markdown",
      "source": [
        "Create a circuit from these registers."
      ],
      "metadata": {
        "id": "i1vtIc1FpHZ1"
      }
    },
    {
      "cell_type": "code",
      "source": [
        "# create a circuit with these registers\n",
        "circuit = QuantumCircuit(one_qubit, one_bit)\n",
        "\n",
        "# draw circuit to see what it looks like\n",
        "circuit.draw()"
      ],
      "metadata": {
        "colab": {
          "base_uri": "https://localhost:8080/",
          "height": 92
        },
        "id": "zZYLm1TBr6kR",
        "outputId": "45f9fcb3-cf01-420c-a5bd-48db460356f0"
      },
      "execution_count": null,
      "outputs": [
        {
          "output_type": "execute_result",
          "data": {
            "text/plain": [
              "      \n",
              "  q0: \n",
              "      \n",
              "c0: 1/\n",
              "      "
            ],
            "text/html": [
              "<pre style=\"word-wrap: normal;white-space: pre;background: #fff0;line-height: 1.1;font-family: &quot;Courier New&quot;,Courier,monospace\">      \n",
              "  q0: \n",
              "      \n",
              "c0: 1/\n",
              "      </pre>"
            ]
          },
          "metadata": {},
          "execution_count": 6
        }
      ]
    },
    {
      "cell_type": "markdown",
      "source": [
        "Let's make a measurement on our qubit."
      ],
      "metadata": {
        "id": "LYpIUaYl1hiQ"
      }
    },
    {
      "cell_type": "code",
      "source": [
        "# make measurement on qubit\n",
        "circuit.measure(one_qubit, one_bit) #have to be the same length\n",
        "circuit.draw()"
      ],
      "metadata": {
        "colab": {
          "base_uri": "https://localhost:8080/",
          "height": 92
        },
        "id": "0nkN3yNU1neF",
        "outputId": "43cf24bc-7224-4ab6-eb5b-c7c3c586c96c"
      },
      "execution_count": null,
      "outputs": [
        {
          "output_type": "execute_result",
          "data": {
            "text/plain": [
              "      ┌─┐\n",
              "  q0: ┤M├\n",
              "      └╥┘\n",
              "c0: 1/═╩═\n",
              "       0 "
            ],
            "text/html": [
              "<pre style=\"word-wrap: normal;white-space: pre;background: #fff0;line-height: 1.1;font-family: &quot;Courier New&quot;,Courier,monospace\">      ┌─┐\n",
              "  q0: ┤M├\n",
              "      └╥┘\n",
              "c0: 1/═╩═\n",
              "       0 </pre>"
            ]
          },
          "metadata": {},
          "execution_count": 7
        }
      ]
    },
    {
      "cell_type": "markdown",
      "source": [
        "Now we need to run our circuit to see results.\n",
        "\n",
        "First, tell Qiskit what \"backend\" you want to use. Today we'll use \"QASM,\" a backend that simulates how a quantum computer works using a classical computer."
      ],
      "metadata": {
        "id": "FKId3MPN11oI"
      }
    },
    {
      "cell_type": "code",
      "source": [
        "# define which backend you want to use\n",
        "simulator = Aer.get_backend('qasm_simulator')\n",
        "result = execute(circuit, backend = simulator, shots = 100).result()"
      ],
      "metadata": {
        "id": "0JDzCw8K19fj"
      },
      "execution_count": null,
      "outputs": []
    },
    {
      "cell_type": "markdown",
      "source": [
        "Let's plot this quickly using Qiskit's plot_histogram."
      ],
      "metadata": {
        "id": "VzrkQz0e4637"
      }
    },
    {
      "cell_type": "code",
      "source": [
        "from qiskit.tools.visualization import plot_histogram\n",
        "plot_histogram(result.get_counts(circuit))"
      ],
      "metadata": {
        "colab": {
          "base_uri": "https://localhost:8080/",
          "height": 323
        },
        "id": "GUtXhTRS4-Cu",
        "outputId": "ab997b7e-395c-42d8-af47-006514e36b24"
      },
      "execution_count": null,
      "outputs": [
        {
          "output_type": "execute_result",
          "data": {
            "text/plain": [
              "<Figure size 504x360 with 1 Axes>"
            ],
            "image/png": "[encoded data removed]"
          },
          "metadata": {},
          "execution_count": 9
        }
      ]
    },
    {
      "cell_type": "markdown",
      "source": [
        "As you can see, over 100 test measurements (`shots`), our qubit is in state `0` 100% of the time.  This is because when we initialize a qubit, its default state at the beginning of the circuit is `0` with 100% probability.\n",
        "\n",
        "If we want to put our qubit into a state of superposition, we need to operate on it by adding some gates to our circuit."
      ],
      "metadata": {
        "id": "xRfQUyWz5BoB"
      }
    },
    {
      "cell_type": "code",
      "source": [
        "# add a Hadamard gate to put our qubit in superposition\n",
        "circuit.h(one_qubit[0])\n",
        "circuit.draw()"
      ],
      "metadata": {
        "colab": {
          "base_uri": "https://localhost:8080/",
          "height": 92
        },
        "id": "GiTE89hv88el",
        "outputId": "274bce6c-8741-48d8-8a08-c24f56dedda7"
      },
      "execution_count": null,
      "outputs": [
        {
          "output_type": "execute_result",
          "data": {
            "text/plain": [
              "      ┌─┐┌───┐\n",
              "  q0: ┤M├┤ H ├\n",
              "      └╥┘└───┘\n",
              "c0: 1/═╩══════\n",
              "       0      "
            ],
            "text/html": [
              "<pre style=\"word-wrap: normal;white-space: pre;background: #fff0;line-height: 1.1;font-family: &quot;Courier New&quot;,Courier,monospace\">      ┌─┐┌───┐\n",
              "  q0: ┤M├┤ H ├\n",
              "      └╥┘└───┘\n",
              "c0: 1/═╩══════\n",
              "       0      </pre>"
            ]
          },
          "metadata": {},
          "execution_count": 10
        }
      ]
    },
    {
      "cell_type": "markdown",
      "source": [
        "Add a measurement on our qubit.  But before we plot our results, what probability distribution are we expecting between the `0` and `1` state? Recall that a Hadamard gate on one qubit produces the state: `|Q⟩ = 1/√2 |0⟩ + 1/√2 |1⟩`"
      ],
      "metadata": {
        "id": "kYJnC6Qq9Ope"
      }
    },
    {
      "cell_type": "code",
      "source": [
        "# measure our qubit\n",
        "circuit.measure(one_qubit, one_bit)\n",
        "superp_result = execute(circuit, backend = simulator, shots = 100).result()\n",
        "plot_histogram(superp_result.get_counts(circuit))"
      ],
      "metadata": {
        "colab": {
          "base_uri": "https://localhost:8080/",
          "height": 323
        },
        "id": "gqh9O9uD9HlO",
        "outputId": "001c4996-a085-44b0-95c3-f65c62d73842"
      },
      "execution_count": null,
      "outputs": [
        {
          "output_type": "execute_result",
          "data": {
            "text/plain": [
              "<Figure size 504x360 with 1 Axes>"
            ],
            "image/png": "[encoded data removed]"
          },
          "metadata": {},
          "execution_count": 11
        }
      ]
    },
    {
      "cell_type": "markdown",
      "source": [
        "What happens if we simulate the circuit over a greater number of shots?"
      ],
      "metadata": {
        "id": "pBhQPHBZ-Eh5"
      }
    },
    {
      "cell_type": "code",
      "source": [
        "superp_result = execute(circuit, backend = simulator, shots = 5000).result()\n",
        "plot_histogram(superp_result.get_counts(circuit))"
      ],
      "metadata": {
        "colab": {
          "base_uri": "https://localhost:8080/",
          "height": 325
        },
        "id": "q8wjHsFs_6G4",
        "outputId": "e5f360e4-cf09-4584-eb29-e88191fc0763"
      },
      "execution_count": null,
      "outputs": [
        {
          "output_type": "execute_result",
          "data": {
            "text/plain": [
              "<Figure size 504x360 with 1 Axes>"
            ],
            "image/png": "[encoded data removed]"
          },
          "metadata": {},
          "execution_count": 12
        }
      ]
    },
    {
      "cell_type": "markdown",
      "source": [
        "As you can see, we can get much closer to the theoretical probability distribution using a greater number of shots (a greater sample size)."
      ],
      "metadata": {
        "id": "QRDq2ggoA0QG"
      }
    },
    {
      "cell_type": "markdown",
      "source": [
        "#### *Two-qubit circuit*\n",
        "\n",
        "Let's try making a slightly more complicated circuit using two qubits.  If we want to measure both qubits, we'll also need two classical bits."
      ],
      "metadata": {
        "id": "JNvEITrzCEbq"
      }
    },
    {
      "cell_type": "code",
      "source": [
        "# define quantum and classical registers\n",
        "qr = QuantumRegister(2)\n",
        "cr = ClassicalRegister(2)\n",
        "\n",
        "# put registers in a circuit\n",
        "new_circuit = QuantumCircuit(qr, cr)"
      ],
      "metadata": {
        "id": "MT2DCD4iaavJ"
      },
      "execution_count": null,
      "outputs": []
    },
    {
      "cell_type": "markdown",
      "source": [
        "Add a Hadamard gate on the first qubit."
      ],
      "metadata": {
        "id": "kpYiH7rcDBam"
      }
    },
    {
      "cell_type": "code",
      "source": [
        "# add a Hadamard gate on the first qubit\n",
        "new_circuit.h(qr[0])\n",
        "new_circuit.draw()\n",
        "new_circuit.measure(qr, cr)"
      ],
      "metadata": {
        "colab": {
          "base_uri": "https://localhost:8080/"
        },
        "id": "B7OZ5TWmENlj",
        "outputId": "de8bb034-c325-4df6-80e6-de7e8a2ad851"
      },
      "execution_count": null,
      "outputs": [
        {
          "output_type": "execute_result",
          "data": {
            "text/plain": [
              "<qiskit.circuit.instructionset.InstructionSet at 0x7f9fea208280>"
            ]
          },
          "metadata": {},
          "execution_count": 14
        }
      ]
    },
    {
      "cell_type": "markdown",
      "source": [
        "Check the results from this."
      ],
      "metadata": {
        "id": "DxkSHSQzOWpZ"
      }
    },
    {
      "cell_type": "code",
      "source": [
        "# check the results of the Hadamard\n",
        "simulator = Aer.get_backend('qasm_simulator') #two backends\n",
        "result = execute(new_circuit, backend = simulator, shots = 1000).result()\n",
        "plot_histogram(result.get_counts(new_circuit))"
      ],
      "metadata": {
        "colab": {
          "base_uri": "https://localhost:8080/",
          "height": 334
        },
        "id": "AwqgsUmMOYAz",
        "outputId": "7587164b-00ef-4eda-a301-d8e2ed3efa84"
      },
      "execution_count": null,
      "outputs": [
        {
          "output_type": "execute_result",
          "data": {
            "text/plain": [
              "<Figure size 504x360 with 1 Axes>"
            ],
            "image/png": "[encoded data removed]"
          },
          "metadata": {},
          "execution_count": 15
        }
      ]
    },
    {
      "cell_type": "markdown",
      "source": [
        "How do we read these results? We read the state, |00⟩ or |01⟩, from right to left.  So the state |00⟩ says that both qubits are in the |0⟩ state and |01⟩ says that the first qubit is in |1⟩ and the second qubit is in |0⟩.  \n",
        "\n",
        "In both system states, |00⟩ and |01⟩ (denoted by double binary digits), the second qubit (farthest left) is in state |0⟩.  While our Hadamard gate has put the first qubit in a superposition of |0⟩ and |1⟩, our second qubit is still in its default state of |0⟩."
      ],
      "metadata": {
        "id": "1MWL6uBGOas1"
      }
    },
    {
      "cell_type": "markdown",
      "source": [
        "Now, create a circuit with an entangeled state by conditioning the state of the second qubit on the first."
      ],
      "metadata": {
        "id": "6r_-iU1yE_uW"
      }
    },
    {
      "cell_type": "code",
      "source": [
        "# create entanglement by adding a CX/CNOT gate\n",
        "# define quantum and classical registers\n",
        "qr = QuantumRegister(2)\n",
        "cr = ClassicalRegister(2)\n",
        "\n",
        "# put registers in a circuit\n",
        "ent_circuit = QuantumCircuit(qr, cr)\n",
        "ent_circuit.h(qr[0])\n",
        "ent_circuit.cx(qr[0], qr[1])\n",
        "ent_circuit.measure(qr, cr)\n",
        "\n",
        "ent_circuit.draw()"
      ],
      "metadata": {
        "colab": {
          "base_uri": "https://localhost:8080/",
          "height": 122
        },
        "id": "OOqsnZoDbU7M",
        "outputId": "c5dbf72e-5695-4d4c-b395-afc8773a8f88"
      },
      "execution_count": null,
      "outputs": [
        {
          "output_type": "execute_result",
          "data": {
            "text/plain": [
              "       ┌───┐     ┌─┐   \n",
              "q47_0: ┤ H ├──■──┤M├───\n",
              "       └───┘┌─┴─┐└╥┘┌─┐\n",
              "q47_1: ─────┤ X ├─╫─┤M├\n",
              "            └───┘ ║ └╥┘\n",
              " c2: 2/═══════════╩══╩═\n",
              "                  0  1 "
            ],
            "text/html": [
              "<pre style=\"word-wrap: normal;white-space: pre;background: #fff0;line-height: 1.1;font-family: &quot;Courier New&quot;,Courier,monospace\">       ┌───┐     ┌─┐   \n",
              "q47_0: ┤ H ├──■──┤M├───\n",
              "       └───┘┌─┴─┐└╥┘┌─┐\n",
              "q47_1: ─────┤ X ├─╫─┤M├\n",
              "            └───┘ ║ └╥┘\n",
              " c2: 2/═══════════╩══╩═\n",
              "                  0  1 </pre>"
            ]
          },
          "metadata": {},
          "execution_count": 21
        }
      ]
    },
    {
      "cell_type": "markdown",
      "source": [
        "Before we run our circuit: What state have we just created? What probability do we expect?\n",
        "\n",
        "Now let's try running and plotting results."
      ],
      "metadata": {
        "id": "-94Q7J98FTxk"
      }
    },
    {
      "cell_type": "code",
      "source": [
        "# run the circuit\n",
        "simulator = Aer.get_backend('qasm_simulator') #two backends\n",
        "result = execute(ent_circuit, backend = simulator, shots = 1000).result()\n",
        "plot_histogram(result.get_counts(ent_circuit))"
      ],
      "metadata": {
        "id": "49nBbOH1fImb",
        "colab": {
          "base_uri": "https://localhost:8080/",
          "height": 331
        },
        "outputId": "63083032-c05d-4dec-bcac-ce68ee9257e0"
      },
      "execution_count": null,
      "outputs": [
        {
          "output_type": "execute_result",
          "data": {
            "text/plain": [
              "<Figure size 504x360 with 1 Axes>"
            ],
            "image/png": "[encoded data removed]"
          },
          "metadata": {},
          "execution_count": 23
        }
      ]
    },
    {
      "cell_type": "markdown",
      "source": [
        "Q: How do we read these results?"
      ],
      "metadata": {
        "id": "jNVGgv5PMexQ"
      }
    },
    {
      "cell_type": "code",
      "source": [
        "# try to add another CNOT\n",
        "new_circuit.cx(qr[0], qr[1]) #qr and cr need to be the same length\n",
        "new_circuit.draw()\n",
        "\n",
        "new_circuit.measure(qr, cr) #qr and cr need to be the same length\n",
        "new_circuit.draw()\n",
        "result = execute(new_circuit, backend = simulator, shots = 1000).result()\n",
        "plot_histogram(result.get_counts(new_circuit))"
      ],
      "metadata": {
        "colab": {
          "base_uri": "https://localhost:8080/",
          "height": 331
        },
        "id": "_-uACPBXMjOi",
        "outputId": "73bcd398-ceb7-48be-913c-ae13f90afc8c"
      },
      "execution_count": null,
      "outputs": [
        {
          "output_type": "execute_result",
          "data": {
            "text/plain": [
              "<Figure size 504x360 with 1 Axes>"
            ],
            "image/png": "[encoded data removed]"
          },
          "metadata": {},
          "execution_count": 19
        }
      ]
    },
    {
      "cell_type": "code",
      "source": [
        "from qiskit import IBMQ\n",
        "IBMQ.save_account('your_token')\n",
        "IBMQ.load_account()\n",
        "provider = IBMQ.get_provider(hub='ibm-q', group='open', project='main')\n",
        "provider.backends()\n",
        "\n",
        "qcomp = provider.get_backend(\"ibmq_santiago\")\n",
        "job = execute(circuit, backend=qcomp)\n",
        "from qiskit.tools.monitor import job_monitor\n",
        "job_monitor(job)"
      ],
      "metadata": {
        "id": "1yrYqlrVgolg",
        "colab": {
          "base_uri": "https://localhost:8080/",
          "height": 392
        },
        "outputId": "43879cac-7e17-4dab-b7b6-bf0ad301fc00"
      },
      "execution_count": null,
      "outputs": [
        {
          "output_type": "stream",
          "name": "stderr",
          "text": [
            "configrc.store_credentials:WARNING:2022-04-08 15:26:36,640: Credentials already present. Set overwrite=True to overwrite.\n",
            "ibmqfactory.load_account:WARNING:2022-04-08 15:26:37,176: Credentials are already in use. The existing account in the session will be replaced.\n"
          ]
        },
        {
          "output_type": "stream",
          "name": "stdout",
          "text": [
            "Job Status: job is queued (10)    "
          ]
        },
        {
          "output_type": "error",
          "ename": "KeyboardInterrupt",
          "evalue": "ignored",
          "traceback": [
            "\u001b[0;31m---------------------------------------------------------------------------\u001b[0m",
            "\u001b[0;31mKeyboardInterrupt\u001b[0m                         Traceback (most recent call last)",
            "\u001b[0;32m<ipython-input-24-01a8915ebbe0>\u001b[0m in \u001b[0;36m<module>\u001b[0;34m()\u001b[0m\n\u001b[1;32m      8\u001b[0m \u001b[0mjob\u001b[0m \u001b[0;34m=\u001b[0m \u001b[0mexecute\u001b[0m\u001b[0;34m(\u001b[0m\u001b[0mcircuit\u001b[0m\u001b[0;34m,\u001b[0m \u001b[0mbackend\u001b[0m\u001b[0;34m=\u001b[0m\u001b[0mqcomp\u001b[0m\u001b[0;34m)\u001b[0m\u001b[0;34m\u001b[0m\u001b[0;34m\u001b[0m\u001b[0m\n\u001b[1;32m      9\u001b[0m \u001b[0;32mfrom\u001b[0m \u001b[0mqiskit\u001b[0m\u001b[0;34m.\u001b[0m\u001b[0mtools\u001b[0m\u001b[0;34m.\u001b[0m\u001b[0mmonitor\u001b[0m \u001b[0;32mimport\u001b[0m \u001b[0mjob_monitor\u001b[0m\u001b[0;34m\u001b[0m\u001b[0;34m\u001b[0m\u001b[0m\n\u001b[0;32m---> 10\u001b[0;31m \u001b[0mjob_monitor\u001b[0m\u001b[0;34m(\u001b[0m\u001b[0mjob\u001b[0m\u001b[0;34m)\u001b[0m\u001b[0;34m\u001b[0m\u001b[0;34m\u001b[0m\u001b[0m\n\u001b[0m",
            "\u001b[0;32m/usr/local/lib/python3.7/dist-packages/qiskit/tools/monitor/job_monitor.py\u001b[0m in \u001b[0;36mjob_monitor\u001b[0;34m(job, interval, quiet, output, line_discipline)\u001b[0m\n\u001b[1;32m     88\u001b[0m \u001b[0;34m\u001b[0m\u001b[0m\n\u001b[1;32m     89\u001b[0m     _text_checker(\n\u001b[0;32m---> 90\u001b[0;31m         \u001b[0mjob\u001b[0m\u001b[0;34m,\u001b[0m \u001b[0minterval\u001b[0m\u001b[0;34m,\u001b[0m \u001b[0m_interval_set\u001b[0m\u001b[0;34m,\u001b[0m \u001b[0mquiet\u001b[0m\u001b[0;34m=\u001b[0m\u001b[0mquiet\u001b[0m\u001b[0;34m,\u001b[0m \u001b[0moutput\u001b[0m\u001b[0;34m=\u001b[0m\u001b[0moutput\u001b[0m\u001b[0;34m,\u001b[0m \u001b[0mline_discipline\u001b[0m\u001b[0;34m=\u001b[0m\u001b[0mline_discipline\u001b[0m\u001b[0;34m\u001b[0m\u001b[0;34m\u001b[0m\u001b[0m\n\u001b[0m\u001b[1;32m     91\u001b[0m     )\n",
            "\u001b[0;32m/usr/local/lib/python3.7/dist-packages/qiskit/tools/monitor/job_monitor.py\u001b[0m in \u001b[0;36m_text_checker\u001b[0;34m(job, interval, _interval_set, quiet, output, line_discipline)\u001b[0m\n\u001b[1;32m     42\u001b[0m         \u001b[0mprint\u001b[0m\u001b[0;34m(\u001b[0m\u001b[0;34m\"{}{}: {}\"\u001b[0m\u001b[0;34m.\u001b[0m\u001b[0mformat\u001b[0m\u001b[0;34m(\u001b[0m\u001b[0mline_discipline\u001b[0m\u001b[0;34m,\u001b[0m \u001b[0;34m\"Job Status\"\u001b[0m\u001b[0;34m,\u001b[0m \u001b[0mmsg\u001b[0m\u001b[0;34m)\u001b[0m\u001b[0;34m,\u001b[0m \u001b[0mend\u001b[0m\u001b[0;34m=\u001b[0m\u001b[0;34m\"\"\u001b[0m\u001b[0;34m,\u001b[0m \u001b[0mfile\u001b[0m\u001b[0;34m=\u001b[0m\u001b[0moutput\u001b[0m\u001b[0;34m)\u001b[0m\u001b[0;34m\u001b[0m\u001b[0;34m\u001b[0m\u001b[0m\n\u001b[1;32m     43\u001b[0m     \u001b[0;32mwhile\u001b[0m \u001b[0mstatus\u001b[0m\u001b[0;34m.\u001b[0m\u001b[0mname\u001b[0m \u001b[0;32mnot\u001b[0m \u001b[0;32min\u001b[0m \u001b[0;34m[\u001b[0m\u001b[0;34m\"DONE\"\u001b[0m\u001b[0;34m,\u001b[0m \u001b[0;34m\"CANCELLED\"\u001b[0m\u001b[0;34m,\u001b[0m \u001b[0;34m\"ERROR\"\u001b[0m\u001b[0;34m]\u001b[0m\u001b[0;34m:\u001b[0m\u001b[0;34m\u001b[0m\u001b[0;34m\u001b[0m\u001b[0m\n\u001b[0;32m---> 44\u001b[0;31m         \u001b[0mtime\u001b[0m\u001b[0;34m.\u001b[0m\u001b[0msleep\u001b[0m\u001b[0;34m(\u001b[0m\u001b[0minterval\u001b[0m\u001b[0;34m)\u001b[0m\u001b[0;34m\u001b[0m\u001b[0;34m\u001b[0m\u001b[0m\n\u001b[0m\u001b[1;32m     45\u001b[0m         \u001b[0mstatus\u001b[0m \u001b[0;34m=\u001b[0m \u001b[0mjob\u001b[0m\u001b[0;34m.\u001b[0m\u001b[0mstatus\u001b[0m\u001b[0;34m(\u001b[0m\u001b[0;34m)\u001b[0m\u001b[0;34m\u001b[0m\u001b[0;34m\u001b[0m\u001b[0m\n\u001b[1;32m     46\u001b[0m         \u001b[0mmsg\u001b[0m \u001b[0;34m=\u001b[0m \u001b[0mstatus\u001b[0m\u001b[0;34m.\u001b[0m\u001b[0mvalue\u001b[0m\u001b[0;34m\u001b[0m\u001b[0;34m\u001b[0m\u001b[0m\n",
            "\u001b[0;31mKeyboardInterrupt\u001b[0m: "
          ]
        }
      ]
    },
    {
      "cell_type": "code",
      "source": [
        "result = job.result()\n",
        "plot_histogram(result.get_counts(circuit))"
      ],
      "metadata": {
        "id": "dNcFucAGi80y"
      },
      "execution_count": null,
      "outputs": []
    }
  ]
}