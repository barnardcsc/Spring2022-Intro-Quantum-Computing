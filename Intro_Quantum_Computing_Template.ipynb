{
  "nbformat": 4,
  "nbformat_minor": 0,
  "metadata": {
    "colab": {
      "name": "Intro Quantum Computing Template.ipynb",
      "provenance": [],
      "collapsed_sections": []
    },
    "kernelspec": {
      "name": "python3",
      "display_name": "Python 3"
    },
    "language_info": {
      "name": "python"
    }
  },
  "cells": [
    {
      "cell_type": "markdown",
      "source": [
        "# **Intro to Quantum Computing**\n",
        "\n",
        "Welcome to the Vagelos Computational Science Center's Intro to Quantum Computing workshop! Today we'll be using Qiskit, IBM's quantum simulation software development kit. Qiskit is compatible with Python, so we'll also cover a few basics of Python along the way. Qiskit has pretty extensive documentation, helpful tutorials, and a textbook. We'll introduce a some basics concepts here, and if you're interested in learning more after this workshop I highly recommend you check out some of their materials [here](https://qiskit.org/textbook/ch-states/introduction.html).\n",
        "\n",
        "\n",
        "Today we'll:\n",
        "\n",
        "1.   Cover the basics of Qiskit\n",
        "2.   Explore basic quantum circuits with one and two qubits\n",
        "\n"
      ],
      "metadata": {
        "id": "iZQxHmSUFixP"
      }
    },
    {
      "cell_type": "markdown",
      "source": [
        "\n",
        "\n",
        "---\n",
        "\n",
        "\n",
        "## Getting set up\n",
        "\n",
        "#### *Make an IBMQ account*\n",
        "First, let's visit [IBM's website](https://quantum-computing.ibm.com/) to set up an account. IBM allows users to send jobs to some of their machines, but you'll need to set up an account. (You can skip this step if you want to use the quantum computer simulator only.)\n",
        "\n",
        "#### *Install Qiskit*\n",
        "Google Colab allows us to run Python programs without installing Python onto your machine.  But before we get started, we need to install and import Qiskit, the software development kit we'll be using today to run our quantum simulator and interface with an IBM quantum computer.\n",
        "\n",
        "We can usually install software packages using the command `pip install` in the command line. In Google Colab (or Jupyter notebook), we let Colab know that we're running a command line script (as opposed to a Python cell) by writing `!` before the line.\n",
        "\n",
        "Run the following line of code to install Qiskit: `!pip install qiskit`"
      ],
      "metadata": {
        "id": "NhHO5nKvLBGI"
      }
    },
    {
      "cell_type": "code",
      "execution_count": null,
      "metadata": {
        "id": "ZUNDTJOFE36w"
      },
      "outputs": [],
      "source": [
        "# install Qiskit\n"
      ]
    },
    {
      "cell_type": "markdown",
      "source": [
        "Before we get started with Qiskit and quantum circuits, let's cover a few basics of Python that we'll be working with today.\n",
        "\n",
        "In Python, we can assign a variable using the `=` symbol."
      ],
      "metadata": {
        "id": "Likn4Ss7MhPF"
      }
    },
    {
      "cell_type": "code",
      "source": [
        "# assign a variable to a number\n"
      ],
      "metadata": {
        "id": "slODp0hmOp31"
      },
      "execution_count": null,
      "outputs": []
    },
    {
      "cell_type": "markdown",
      "source": [
        "We also work with different types (or \"classes\") of objects or data."
      ],
      "metadata": {
        "id": "wvimXt6KOw4f"
      }
    },
    {
      "cell_type": "code",
      "source": [
        "# create two variables of different types\n"
      ],
      "metadata": {
        "id": "5s9k95JoOvwo"
      },
      "execution_count": null,
      "outputs": []
    },
    {
      "cell_type": "markdown",
      "source": [
        "We can pass arguments (objects or their variables) to functions.  In our example above, `print()` is a function with `type(a_string)` as the argument. [`type()` is also a function, with `a_string` being its argument!]\n",
        "\n",
        "In Qiskit, we'll be working with some (slightly less intuitive) functions—don't worry if you don't understand exactly what the function is doing.  The most important thing is to know: when to use a function and what arguments that function needs.\n",
        "\n",
        "\n",
        "\n",
        "---\n",
        "\n",
        "\n",
        "## Working with Qiskit\n",
        "\n",
        "Now that we're a little more warmed up with Python, let's start working with Qiskit. We've installed Qiskit, but now we need to import Qiskit so we can access its functions."
      ],
      "metadata": {
        "id": "FcG-ALVKPBSb"
      }
    },
    {
      "cell_type": "code",
      "source": [
        "# import Qiskit\n"
      ],
      "metadata": {
        "id": "uYN8ZxLfM8pN"
      },
      "execution_count": null,
      "outputs": []
    },
    {
      "cell_type": "markdown",
      "source": [
        "#### *One-qubit circuit*\n",
        "\n",
        "Let's start by creating a one-qubit circuit.  Our basic workflow in Qiskit will look something like:\n",
        "\n",
        "1.   Define quantum and classical registers\n",
        "2.   Create a circuit and add gates\n",
        "3.   Define a `backend` and `execute` the circuit\n",
        "4.   Read out results\n",
        "\n",
        "For our one-qubit circuit, we can go ahead and define our registers."
      ],
      "metadata": {
        "id": "n0wsAgzJgt2S"
      }
    },
    {
      "cell_type": "code",
      "source": [
        "# one qubit quantum circuit\n",
        "\n",
        "# define quantum and classical registers\n"
      ],
      "metadata": {
        "id": "NWK74kFQITke"
      },
      "execution_count": null,
      "outputs": []
    },
    {
      "cell_type": "markdown",
      "source": [
        "Create a circuit from these registers."
      ],
      "metadata": {
        "id": "i1vtIc1FpHZ1"
      }
    },
    {
      "cell_type": "code",
      "source": [
        "# create a circuit with these registers\n",
        "\n",
        "\n",
        "# draw circuit to see what it looks like\n"
      ],
      "metadata": {
        "id": "zZYLm1TBr6kR"
      },
      "execution_count": null,
      "outputs": []
    },
    {
      "cell_type": "markdown",
      "source": [
        "Let's make a measurement on our qubit."
      ],
      "metadata": {
        "id": "LYpIUaYl1hiQ"
      }
    },
    {
      "cell_type": "code",
      "source": [
        "# make measurement on qubit\n"
      ],
      "metadata": {
        "id": "0nkN3yNU1neF"
      },
      "execution_count": null,
      "outputs": []
    },
    {
      "cell_type": "markdown",
      "source": [
        "Now we need to run our circuit to see results.\n",
        "\n",
        "First, tell Qiskit what \"backend\" you want to use. Today we'll use \"QASM,\" a backend that simulates how a quantum computer works using a classical computer."
      ],
      "metadata": {
        "id": "FKId3MPN11oI"
      }
    },
    {
      "cell_type": "code",
      "source": [
        "# define which backend you want to use\n"
      ],
      "metadata": {
        "id": "0JDzCw8K19fj"
      },
      "execution_count": null,
      "outputs": []
    },
    {
      "cell_type": "markdown",
      "source": [
        "Let's plot this quickly using Qiskit's plot_histogram."
      ],
      "metadata": {
        "id": "VzrkQz0e4637"
      }
    },
    {
      "cell_type": "code",
      "source": [
        "# plot using plot_histogram"
      ],
      "metadata": {
        "id": "GUtXhTRS4-Cu"
      },
      "execution_count": null,
      "outputs": []
    },
    {
      "cell_type": "markdown",
      "source": [
        "As you can see, over 100 test measurements (`shots`), our qubit is in state `0` 100% of the time.  This is because when we initialize a qubit, its default state at the beginning of the circuit is `0` with 100% probability.\n",
        "\n",
        "If we want to put our qubit into a state of superposition, we need to operate on it by adding some gates to our circuit."
      ],
      "metadata": {
        "id": "xRfQUyWz5BoB"
      }
    },
    {
      "cell_type": "code",
      "source": [
        "# add a Hadamard gate to put our qubit in superposition\n"
      ],
      "metadata": {
        "id": "GiTE89hv88el"
      },
      "execution_count": null,
      "outputs": []
    },
    {
      "cell_type": "markdown",
      "source": [
        "Add a measurement on our qubit.  But before we plot our results, what probability distribution are we expecting between the `0` and `1` state? Recall that a Hadamard gate on one qubit produces the state: `|Q⟩ = 1/√2 |0⟩ + 1/√2 |1⟩`"
      ],
      "metadata": {
        "id": "kYJnC6Qq9Ope"
      }
    },
    {
      "cell_type": "code",
      "source": [
        "# measure our qubit\n"
      ],
      "metadata": {
        "id": "gqh9O9uD9HlO"
      },
      "execution_count": null,
      "outputs": []
    },
    {
      "cell_type": "markdown",
      "source": [
        "What happens if we simulate the circuit over a greater number of shots?"
      ],
      "metadata": {
        "id": "pBhQPHBZ-Eh5"
      }
    },
    {
      "cell_type": "code",
      "source": [
        "# run over greater number of shots"
      ],
      "metadata": {
        "id": "q8wjHsFs_6G4"
      },
      "execution_count": null,
      "outputs": []
    },
    {
      "cell_type": "markdown",
      "source": [
        "As you can see, we can get much closer to the theoretical probability distribution using a greater number of shots (a greater sample size)."
      ],
      "metadata": {
        "id": "QRDq2ggoA0QG"
      }
    },
    {
      "cell_type": "markdown",
      "source": [
        "#### *Two-qubit circuit*\n",
        "\n",
        "Let's try making a slightly more complicated circuit using two qubits.  If we want to measure both qubits, we'll also need two classical bits."
      ],
      "metadata": {
        "id": "JNvEITrzCEbq"
      }
    },
    {
      "cell_type": "code",
      "source": [
        "# define quantum and classical registers\n",
        "\n",
        "\n",
        "# put registers in a circuit\n"
      ],
      "metadata": {
        "id": "MT2DCD4iaavJ"
      },
      "execution_count": null,
      "outputs": []
    },
    {
      "cell_type": "markdown",
      "source": [
        "Add a Hadamard gate on the first qubit."
      ],
      "metadata": {
        "id": "kpYiH7rcDBam"
      }
    },
    {
      "cell_type": "code",
      "source": [
        "# add a Hadamard gate on the first qubit\n"
      ],
      "metadata": {
        "id": "B7OZ5TWmENlj"
      },
      "execution_count": null,
      "outputs": []
    },
    {
      "cell_type": "markdown",
      "source": [
        "Check the results from this."
      ],
      "metadata": {
        "id": "DxkSHSQzOWpZ"
      }
    },
    {
      "cell_type": "code",
      "source": [
        "# check the results of the Hadamard\n"
      ],
      "metadata": {
        "id": "AwqgsUmMOYAz"
      },
      "execution_count": null,
      "outputs": []
    },
    {
      "cell_type": "markdown",
      "source": [
        "How do we read these results? We read the state, |00⟩ or |01⟩, from right to left.  So the state |00⟩ says that both qubits are in the |0⟩ state and |01⟩ says that the first qubit is in |1⟩ and the second qubit is in |0⟩.  \n",
        "\n",
        "In both system states, |00⟩ and |01⟩ (denoted by double binary digits), the second qubit (farthest left) is in state |0⟩.  While our Hadamard gate has put the first qubit in a superposition of |0⟩ and |1⟩, our second qubit is still in its default state of |0⟩."
      ],
      "metadata": {
        "id": "1MWL6uBGOas1"
      }
    },
    {
      "cell_type": "markdown",
      "source": [
        "Now, create a circuit with an entangeled state by conditioning the state of the second qubit on the first."
      ],
      "metadata": {
        "id": "6r_-iU1yE_uW"
      }
    },
    {
      "cell_type": "code",
      "source": [
        "# create entanglement by adding a CX/CNOT gate\n",
        "# define quantum and classical registers\n",
        "\n",
        "\n",
        "# put registers in a circuit\n",
        "\n",
        "\n",
        "# add gates and measurements\n",
        "\n"
      ],
      "metadata": {
        "id": "OOqsnZoDbU7M"
      },
      "execution_count": null,
      "outputs": []
    },
    {
      "cell_type": "markdown",
      "source": [
        "Before we run our circuit: What state have we just created? What probability do we expect?\n",
        "\n",
        "Now let's try running and plotting results."
      ],
      "metadata": {
        "id": "-94Q7J98FTxk"
      }
    },
    {
      "cell_type": "code",
      "source": [
        "# run the circuit\n"
      ],
      "metadata": {
        "id": "49nBbOH1fImb"
      },
      "execution_count": null,
      "outputs": []
    },
    {
      "cell_type": "markdown",
      "source": [
        "Q: How do we read these results?"
      ],
      "metadata": {
        "id": "jNVGgv5PMexQ"
      }
    },
    {
      "cell_type": "code",
      "source": [
        "# try to add another CNOT\n"
      ],
      "metadata": {
        "id": "_-uACPBXMjOi"
      },
      "execution_count": null,
      "outputs": []
    },
    {
      "cell_type": "code",
      "source": [
        "# run on IBM quantum computer"
      ],
      "metadata": {
        "id": "1yrYqlrVgolg"
      },
      "execution_count": null,
      "outputs": []
    },
    {
      "cell_type": "code",
      "source": [
        "# show results"
      ],
      "metadata": {
        "id": "dNcFucAGi80y"
      },
      "execution_count": null,
      "outputs": []
    }
  ]
}